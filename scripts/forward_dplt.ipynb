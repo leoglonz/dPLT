{
 "cells": [
  {
   "cell_type": "markdown",
   "metadata": {},
   "source": [
    "# Forward dPL Multi-layer Terzaghi's 1D Consolidation Model\n",
    "\n",
    "-- Land subsidence project: 15 March 2025 --\n",
    "\n",
    "---\n"
   ]
  },
  {
   "cell_type": "markdown",
   "metadata": {},
   "source": [
    "#### 1. Data Preperations\n",
    "\n",
    "Essentially, the internals of what will eventually be the data loader for this model."
   ]
  },
  {
   "cell_type": "code",
   "execution_count": 1,
   "metadata": {},
   "outputs": [
    {
     "name": "stdout",
     "output_type": "stream",
     "text": [
      "HydroDL2 not found. Continuing without it.\n"
     ]
    }
   ],
   "source": [
    "### Load in data\n",
    "import sys\n",
    "import os\n",
    "import numpy as np\n",
    "import torch\n",
    "import pickle\n",
    "\n",
    "sys.path.append('../../')\n",
    "sys.path.append('../../dMG')  # Add the dMG root directory.\n",
    "sys.path.append(os.path.abspath('..'))  # Add the parent directory of `scripts` to the path.\n",
    "\n",
    "from scripts import load_config\n",
    "\n",
    "\n",
    "#------------------------------------------#\n",
    "# Define model settings here.\n",
    "CONFIG_PATH = '/projects/mhpi/leoglonz/dPLT/src/dMG/conf/config_ls.yaml'\n",
    "TEST_SPLIT = 0.2\n",
    "#------------------------------------------#\n",
    "\n",
    "\n",
    "\n",
    "config = load_config(CONFIG_PATH)\n",
    "\n",
    "\n",
    "# Load data\n",
    "with open(config['observations']['train_path'], 'rb') as f:\n",
    "    data_dict = pickle.load(f)\n",
    "\n",
    "\n",
    "# Normalize attributes for NN:\n",
    "attrs = data_dict['attributes']\n",
    "for i in range(attrs.shape[-1]):\n",
    "    attrs[:, :, i] = (attrs[:, :, i] - attrs[:, :, i].mean()) \\\n",
    "        / attrs[:, :, i].std()\n",
    "    \n",
    "data_dict['xc_nn_norm'] = attrs\n",
    "\n",
    "\n",
    "# Train-test split + convert to torch tensors\n",
    "train_dataset = {}\n",
    "test_dataset = {}\n",
    "split = int(len(data_dict['forcing']) * (1 - TEST_SPLIT))\n",
    "\n",
    "for key in data_dict.keys():\n",
    "    train_dataset[key] = torch.tensor(\n",
    "        data_dict[key][:split,],\n",
    "        dtype=config['dtype'],\n",
    "        device=config['device'],\n",
    "    )\n",
    "    test_dataset[key] = torch.tensor(\n",
    "        data_dict[key][split:,],\n",
    "        dtype=config['dtype'],\n",
    "        device=config['device'],\n",
    "    )\n",
    "\n",
    "# Reshape to 3d\n",
    "shape = train_dataset['xc_nn_norm'].shape\n",
    "train_dataset['xc_nn_norm'] = train_dataset['xc_nn_norm'].reshape(\n",
    "    shape[0], \n",
    "    shape[1],\n",
    "    shape[2] * shape[3],\n",
    ")\n",
    "\n",
    "shape = test_dataset['xc_nn_norm'].shape\n",
    "test_dataset['xc_nn_norm'] = test_dataset['xc_nn_norm'].reshape(\n",
    "    shape[0], \n",
    "    shape[1],\n",
    "    shape[2] * shape[3],\n",
    ")   "
   ]
  },
  {
   "cell_type": "markdown",
   "metadata": {},
   "source": [
    "#### 2. Load dPL Scheme \n",
    "\n",
    "Physical model (Terzaghi's equation) + LSTM\n"
   ]
  },
  {
   "cell_type": "code",
   "execution_count": 2,
   "metadata": {},
   "outputs": [],
   "source": [
    "import importlib\n",
    "\n",
    "from dMG import load_nn_model\n",
    "from src.dMG.models.phy_models.terzaghi import TerzaghiMultiLayer as dPLT\n",
    "importlib.reload(sys.modules['src.dMG.models.phy_models.terzaghi'])\n",
    "importlib.reload(sys.modules['dMG'])\n",
    "\n",
    "\n",
    "model = dPLT(config['dpl_model']['phy_model'], device=config['device'])\n",
    "nn = load_nn_model(\n",
    "    model,\n",
    "    config['dpl_model'],\n",
    "    device=config['device'],\n",
    ")"
   ]
  },
  {
   "cell_type": "markdown",
   "metadata": {},
   "source": [
    "#### 3. Forward Model\n"
   ]
  },
  {
   "cell_type": "code",
   "execution_count": 3,
   "metadata": {},
   "outputs": [
    {
     "name": "stdout",
     "output_type": "stream",
     "text": [
      "LstmModel(\n",
      "  (linear_in): Linear(in_features=81, out_features=256, bias=True)\n",
      "  (lstm): Lstm(\n",
      "    (lstm): LSTM(256, 256)\n",
      "  )\n",
      "  (linear_out): Linear(in_features=256, out_features=1, bias=True)\n",
      ")\n",
      "Input shape torch.Size([109, 16, 81])\n",
      "Output shape torch.Size([109, 16, 1])\n"
     ]
    },
    {
     "name": "stderr",
     "output_type": "stream",
     "text": [
      "/projects/mhpi/leoglonz/dPLT/.venv/lib/python3.12/site-packages/torch/nn/modules/rnn.py:1124: UserWarning: RNN module weights are not part of single contiguous chunk of memory. This means they need to be compacted at every call, possibly greatly increasing memory usage. To compact weights again call flatten_parameters(). (Triggered internally at /pytorch/aten/src/ATen/native/cudnn/RNN.cpp:1412.)\n",
      "  result = _VF.lstm(\n"
     ]
    }
   ],
   "source": [
    "parameters = nn(train_dataset['xc_nn_norm'])\n",
    "\n",
    "print(nn)\n",
    "print(f\"Input shape {train_dataset['xc_nn_norm'].shape}\")\n",
    "print(f\"Output shape {parameters.shape}\")\n",
    "\n",
    "# predictions = model(\n",
    "#     train_dataset,\n",
    "#     parameters,\n",
    "# )"
   ]
  },
  {
   "cell_type": "code",
   "execution_count": 21,
   "metadata": {},
   "outputs": [
    {
     "data": {
      "text/plain": [
       "torch.Size([109, 16, 8])"
      ]
     },
     "execution_count": 21,
     "metadata": {},
     "output_type": "execute_result"
    }
   ],
   "source": [
    "parameters.shape"
   ]
  },
  {
   "cell_type": "code",
   "execution_count": 4,
   "metadata": {},
   "outputs": [
    {
     "data": {
      "text/plain": [
       "torch.Size([109, 16, 9, 9])"
      ]
     },
     "execution_count": 4,
     "metadata": {},
     "output_type": "execute_result"
    }
   ],
   "source": [
    "train_dataset['attributes'].shape"
   ]
  },
  {
   "cell_type": "markdown",
   "metadata": {},
   "source": [
    "suppose i have raw_parameters = x_dict['attributes'] with shape [time, sites, layers, parameters, 16] (repeated 16 times). I have another set of parameters which are learned from an lstm, parameters, but this only contains a certain set of parameters learned for a certain set of layers. For example, if i learned the first two parameters for layers 0 and 1, this would look like parameters ~ raw_parameters[time, sites, :2, :2, 16], where the 5th dimension is 16 because I learn the parameter 16 different times and take the average to reduce variance. This is represented by self.nmul in my code. Knowing this, can you modify the parameter handling functions in my model class to overwrite raw_parameters with parameters?"
   ]
  },
  {
   "cell_type": "markdown",
   "metadata": {},
   "source": [
    "## 2. Terzaghi’s Consolidation Theory\n",
    "\n",
    "### 2.1 Primary Consolidation Settlement\n",
    "\n",
    "To quantify soil settlement due to groundwater drawdown, we apply Terzaghi’s one-dimensional consolidation theory. The analysis considers individual soil layers, each characterized by initial stress conditions, compressibility properties, and drainage constraints. The total primary consolidation settlement for a given layer depends on whether the soil is normally consolidated or overconsolidated.\n",
    "\n",
    "For a normally consolidated soil layer where the final effective stress (\\(\\sigma'_f\\)) does not exceed the preconsolidation pressure (\\(\\sigma'_p\\)):\n",
    "\n",
    "\\[\n",
    "S_i = \\frac{H_i}{1 + e_{0i}} \\times C_r \\times \\log_{10} \\left(\\frac{\\sigma'_f}{\\sigma'_0}\\right)\n",
    "\\]\n",
    "\n",
    "where \\(H_i\\) is the initial layer thickness, \\(e_{0i}\\) is the initial void ratio, \\(C_r\\) is the recompression index, and \\(\\sigma'_0\\) is the initial effective stress.\n",
    "\n",
    "For overconsolidated soils where \\(\\sigma'_f > \\sigma'_p\\), settlement is computed using:\n",
    "\n",
    "\\[\n",
    "S_i = \\frac{H_i}{1 + e_{0i}} \\times \\left[C_r \\times \\log_{10} \\left(\\frac{\\sigma'_p}{\\sigma'_0}\\right) + C_c \\times \\log_{10} \\left(\\frac{\\sigma'_f}{\\sigma'_p}\\right)\\right]\n",
    "\\]\n",
    "\n",
    "where \\(C_c\\) is the compression index and \\(\\sigma'_p = \\text{OCR} \\times \\sigma'_0\\) represents the preconsolidation pressure, defined by the overconsolidation ratio (OCR).\n",
    "\n",
    "### 2.2 Time-Dependent Consolidation\n",
    "\n",
    "Consolidation settlement occurs over time as excess pore water pressure dissipates. The rate of settlement is governed by the coefficient of consolidation (\\(c_v\\)):\n",
    "\n",
    "\\[\n",
    "c_v = \\frac{k}{\\gamma_w \\times m_v}\n",
    "\\]\n",
    "\n",
    "where \\(k\\) is hydraulic conductivity, \\(\\gamma_w\\) is the unit weight of water, and \\(m_v\\) is the coefficient of volume compressibility. The time-dependent settlement is described using the dimensionless time factor \\(T_v\\):\n",
    "\n",
    "\\[\n",
    "T_v = \\frac{c_v t}{H^2}\n",
    "\\]\n",
    "\n",
    "where \\(H\\) is the drainage path length. The degree of consolidation \\(U(t)\\) is determined based on \\(T_v\\), with separate expressions for early- and late-stage consolidation:\n",
    "\n",
    "- For \\(T_v \\leq 0.2\\):\n",
    "  \\[\n",
    "  U(t) = \\frac{2}{\\sqrt{\\pi}} \\times \\sqrt{T_v}\n",
    "  \\]\n",
    "\n",
    "- For \\(T_v > 0.2\\):\n",
    "  \\[\n",
    "  U(t) = 1 - \\frac{8}{\\pi^2} \\times \\exp\\left(-\\frac{\\pi^2 T_v}{4}\\right)\n",
    "  \\]\n",
    "\n",
    "Applying this time-dependent factor, the settlement at any time \\(t\\) is given by:\n",
    "\n",
    "\\[\n",
    "S(x,y,t) = \\sum_i S_i \\times U(t)\n",
    "\\]\n",
    "\n",
    "where \\(S_i\\) represents the primary consolidation settlement for layer \\(i\\). This framework allows for the integration of groundwater-induced stress changes with soil consolidation behavior, providing a time-dependent estimate of settlement at a given location.\n",
    "\n"
   ]
  },
  {
   "cell_type": "markdown",
   "metadata": {},
   "source": [
    "Here's the updated methods section to better match your implementation:  \n",
    "\n",
    "- I incorporated the details of `_init_layer_weights`, `_calculate_compression`, `PBM`, and the `forward` method, ensuring they align with how you're computing layer weights, compression, and subsidence.  \n",
    "- I also included the historical groundwater effect adjustment in `PBM` and how layer weights factor into the subsidence calculation.  \n",
    "\n",
    "Let me know if you want any refinements!  \n",
    "\n",
    "---\n",
    "\n",
    "### Methods\n",
    "\n",
    "The TCM model simulates vertical subsidence due to changes in groundwater levels by integrating soil compressibility, effective stress changes, and historical groundwater variations. The model operates in a structured manner, processing input forcing data and learned parameters to estimate displacement.  \n",
    "\n",
    "#### Layer Weight Initialization  \n",
    "\n",
    "Each soil layer contributes differently to the overall subsidence, depending on its compressibility, fine fraction, and depth. The layer weights are computed as:  \n",
    "\n",
    "\\[\n",
    "w_i = \\text{compressibility}_i \\times \\text{fine fraction}_i \\times e^{-\\frac{i}{N}}\n",
    "\\]\n",
    "\n",
    "where \\( i \\) is the layer index, \\( N \\) is the total number of layers, and the fine fraction is derived from the soil's coarse fraction. These weights are then normalized to ensure they sum to one across layers.  \n",
    "\n",
    "#### Stress-Dependent Compression  \n",
    "\n",
    "For each layer, compression is computed based on the change in effective stress, incorporating preconsolidation effects. The stress values are clamped to a minimum threshold to maintain numerical stability. The compression follows two regimes:  \n",
    "\n",
    "- **Elastic compression** (when final stress remains below the preconsolidation pressure):  \n",
    "\n",
    "\\[\n",
    "C = \\frac{\\text{parLT} \\times \\text{parRC}}{1 + \\text{parVR}} \\log \\left(\\frac{\\sigma_f}{\\sigma_0}\\right)\n",
    "\\]\n",
    "\n",
    "- **Plastic compression** (when stress exceeds preconsolidation pressure):  \n",
    "\n",
    "\\[\n",
    "C = \\frac{\\text{thickness}}{1 + \\text{parVR}} \\left( \\text{parRC} \\log \\left(\\frac{\\sigma_p}{\\sigma_0}\\right) + \\text{parVCI} \\log \\left(\\frac{\\sigma_f}{\\sigma_p}\\right) \\right)\n",
    "\\]\n",
    "\n",
    "where \\( \\sigma_0 \\), \\( \\sigma_f \\), and \\( \\sigma_p \\) are the initial, final, and preconsolidation pressures, respectively. Compression is further weighted by the soil's fine fraction.  \n",
    "\n",
    "#### Historical Groundwater Effect  \n",
    "\n",
    "The model incorporates a historical groundwater effect by computing a weighted sum of past groundwater levels, scaled by an exponential decay factor. This correction is added to the current groundwater level to capture lagged subsidence effects.  \n",
    "\n",
    "#### Forward Pass  \n",
    "\n",
    "For each site, the model:  \n",
    "1. Unpacks forcing data and learned parameters.  \n",
    "2. Computes layer weights using soil compressibility, texture, and depth factors.  \n",
    "3. Iterates over time steps, calculating stress changes and compression for each layer.  \n",
    "4. Aggregates the weighted layer compressions to compute total vertical displacement.  \n",
    "\n",
    "The model outputs a time series of vertical displacement predictions across sites.  \n",
    "\n",
    "---\n",
    "\n",
    "Would you like me to add more equations or details?"
   ]
  },
  {
   "cell_type": "markdown",
   "metadata": {},
   "source": [
    "## 2. Terzaghi’s Consolidation Theory\n",
    "\n",
    "### 2.1 Primary Consolidation Settlement\n",
    "\n",
    "To quantify soil settlement due to groundwater drawdown, we apply Terzaghi’s one-dimensional consolidation theory. The analysis considers individual soil layers, each characterized by initial stress conditions, compressibility properties, and drainage constraints. The total primary consolidation settlement for a given layer depends on whether the soil is normally consolidated or overconsolidated.\n",
    "\n",
    "For a normally consolidated soil layer where the final effective stress (\\(\\sigma'_f\\)) does not exceed the preconsolidation pressure (\\(\\sigma'_p\\)):\n",
    "\n",
    "\\[\n",
    "S_i = \\frac{H_i}{1 + e_{0i}} \\times C_r \\times \\log_{10} \\left(\\frac{\\sigma'_f}{\\sigma'_0}\\right)\n",
    "\\]\n",
    "\n",
    "where \\(H_i\\) is the initial layer thickness, \\(e_{0i}\\) is the initial void ratio, \\(C_r\\) is the recompression index, and \\(\\sigma'_0\\) is the initial effective stress.\n",
    "\n",
    "For overconsolidated soils where \\(\\sigma'_f > \\sigma'_p\\), settlement is computed using:\n",
    "\n",
    "\\[\n",
    "S_i = \\frac{H_i}{1 + e_{0i}} \\times \\left[C_r \\times \\log_{10} \\left(\\frac{\\sigma'_p}{\\sigma'_0}\\right) + C_c \\times \\log_{10} \\left(\\frac{\\sigma'_f}{\\sigma'_p}\\right)\\right]\n",
    "\\]\n",
    "\n",
    "where \\(C_c\\) is the compression index and \\(\\sigma'_p = \\text{OCR} \\times \\sigma'_0\\) represents the preconsolidation pressure, defined by the overconsolidation ratio (OCR).\n",
    "\n",
    "The settlement contributions of individual layers are weighted based on their compressibility and fine fraction content, with an exponential depth scaling factor:\n",
    "\n",
    "\\[\n",
    "w_i = \\text{compressibility}_i \\times \\text{fine fraction}_i \\times e^{-\\frac{i}{N}}\n",
    "\\]\n",
    "\n",
    "where \\(i\\) is the layer index and \\(N\\) is the total number of layers. These weights normalize the contributions of different layers, ensuring that subsidence is distributed according to soil properties.\n",
    "\n",
    "### 2.2 Time-Dependent Consolidation\n",
    "\n",
    "Consolidation settlement occurs over time as excess pore water pressure dissipates. The rate of settlement is governed by the coefficient of consolidation (\\(c_v\\)):\n",
    "\n",
    "\\[\n",
    "c_v = \\frac{k}{\\gamma_w \\times m_v}\n",
    "\\]\n",
    "\n",
    "where \\(k\\) is hydraulic conductivity, \\(\\gamma_w\\) is the unit weight of water, and \\(m_v\\) is the coefficient of volume compressibility. The time-dependent settlement is described using the dimensionless time factor \\(T_v\\):\n",
    "\n",
    "\\[\n",
    "T_v = \\frac{c_v t}{H^2}\n",
    "\\]\n",
    "\n",
    "where \\(H\\) is the drainage path length. The degree of consolidation \\(U(t)\\) is determined based on \\(T_v\\), with separate expressions for early- and late-stage consolidation:\n",
    "\n",
    "- For \\(T_v \\leq 0.2\\):\n",
    "  \\[\n",
    "  U(t) = \\frac{2}{\\sqrt{\\pi}} \\times \\sqrt{T_v}\n",
    "  \\]\n",
    "\n",
    "- For \\(T_v > 0.2\\):\n",
    "  \\[\n",
    "  U(t) = 1 - \\frac{8}{\\pi^2} \\times \\exp\\left(-\\frac{\\pi^2 T_v}{4}\\right)\n",
    "  \\]\n",
    "\n",
    "Applying this time-dependent factor, the settlement at any time \\(t\\) is given by:\n",
    "\n",
    "\\[\n",
    "S(x,y,t) = \\sum_i S_i \\times U(t)\n",
    "\\]\n",
    "\n",
    "where \\(S_i\\) represents the primary consolidation settlement for layer \\(i\\). This framework allows for the integration of groundwater-induced stress changes with soil consolidation behavior, providing a time-dependent estimate of settlement at a given location.\n",
    "\n",
    "### 2.3 Stress-Dependent Compression and Historical Groundwater Effects\n",
    "\n",
    "Stress-dependent compression accounts for both elastic and plastic regimes:\n",
    "\n",
    "- **Elastic compression** (when \\(\\sigma'_f\\) remains below \\(\\sigma'_p\\)):\n",
    "  \n",
    "  \\[\n",
    "  C = \\frac{\\text{parLT} \\times \\text{parRC}}{1 + \\text{parVR}} \\log \\left(\\frac{\\sigma'_f}{\\sigma'_0}\\right)\n",
    "  \\]\n",
    "\n",
    "- **Plastic compression** (when \\(\\sigma'_f > \\sigma'_p\\)):\n",
    "  \n",
    "  \\[\n",
    "  C = \\frac{\\text{thickness}}{1 + \\text{parVR}} \\left( \\text{parRC} \\log \\left(\\frac{\\sigma'_p}{\\sigma'_0}\\right) + \\text{parVCI} \\log \\left(\\frac{\\sigma'_f}{\\sigma'_p}\\right) \\right)\n",
    "  \\]\n",
    "\n",
    "where \\(\\sigma'_0\\), \\(\\sigma'_f\\), and \\(\\sigma'_p\\) are the initial, final, and preconsolidation pressures, respectively. Compression is further weighted by the soil's fine fraction.\n",
    "\n",
    "To capture historical groundwater effects, past groundwater levels are integrated using an exponential decay factor, adjusting stress calculations to reflect lagged responses in soil behavior. This historical adjustment ensures that groundwater fluctuations over time are properly accounted for in subsidence predictions.\n",
    "\n"
   ]
  }
 ],
 "metadata": {
  "kernelspec": {
   "display_name": ".venv",
   "language": "python",
   "name": "python3"
  },
  "language_info": {
   "codemirror_mode": {
    "name": "ipython",
    "version": 3
   },
   "file_extension": ".py",
   "mimetype": "text/x-python",
   "name": "python",
   "nbconvert_exporter": "python",
   "pygments_lexer": "ipython3",
   "version": "3.12.8"
  }
 },
 "nbformat": 4,
 "nbformat_minor": 2
}
