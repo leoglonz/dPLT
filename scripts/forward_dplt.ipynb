{
 "cells": [
  {
   "cell_type": "markdown",
   "metadata": {},
   "source": [
    "# Forward dPL Multi-layer Terzaghi's 1D Consolidation Model\n",
    "\n",
    "-- Land subsidence project: 15 March 2025 --\n",
    "\n",
    "---\n"
   ]
  },
  {
   "cell_type": "markdown",
   "metadata": {},
   "source": [
    "#### 1. Data Preperations\n",
    "\n",
    "Essentially, the internals of what will eventually be the data loader for this model."
   ]
  },
  {
   "cell_type": "code",
   "execution_count": 9,
   "metadata": {},
   "outputs": [],
   "source": [
    "### Load in data\n",
    "import sys\n",
    "import os\n",
    "import numpy as np\n",
    "import torch\n",
    "import pickle\n",
    "\n",
    "sys.path.append('../../')\n",
    "sys.path.append('../../dMG')  # Add the dMG root directory.\n",
    "sys.path.append(os.path.abspath('..'))  # Add the parent directory of `scripts` to the path.\n",
    "\n",
    "from scripts import load_config\n",
    "\n",
    "\n",
    "#------------------------------------------#\n",
    "# Define model settings here.\n",
    "CONFIG_PATH = '/projects/mhpi/leoglonz/dPLT/src/dMG/conf/config_ls.yaml'\n",
    "TEST_SPLIT = 0.2\n",
    "#------------------------------------------#\n",
    "\n",
    "\n",
    "\n",
    "config = load_config(CONFIG_PATH)\n",
    "\n",
    "\n",
    "# Load data\n",
    "with open(config['observations']['train_path'], 'rb') as f:\n",
    "    data_dict = pickle.load(f)\n",
    "\n",
    "\n",
    "# Normalize attributes for NN:\n",
    "attrs = data_dict['attributes']\n",
    "for i in range(attrs.shape[-1]):\n",
    "    attrs[:, :, i] = (attrs[:, :, i] - attrs[:, :, i].mean()) \\\n",
    "        / attrs[:, :, i].std()\n",
    "    \n",
    "data_dict['xc_nn_norm'] = attrs\n",
    "\n",
    "\n",
    "# Train-test split + convert to torch tensors\n",
    "train_dataset = {}\n",
    "test_dataset = {}\n",
    "split = int(len(data_dict['forcing']) * (1 - TEST_SPLIT))\n",
    "\n",
    "for key in data_dict.keys():\n",
    "    train_dataset[key] = torch.tensor(\n",
    "        data_dict[key][:split,],\n",
    "        dtype=config['dtype'],\n",
    "        device=config['device'],\n",
    "    )\n",
    "    test_dataset[key] = torch.tensor(\n",
    "        data_dict[key][split:,],\n",
    "        dtype=config['dtype'],\n",
    "        device=config['device'],\n",
    "    )\n",
    "\n",
    "# Reshape to 3d\n",
    "shape = train_dataset['xc_nn_norm'].shape\n",
    "train_dataset['xc_nn_norm'] = train_dataset['xc_nn_norm'].reshape(\n",
    "    shape[0], \n",
    "    shape[1],\n",
    "    shape[2] * shape[3],\n",
    ")\n",
    "\n",
    "shape = test_dataset['xc_nn_norm'].shape\n",
    "test_dataset['xc_nn_norm'] = test_dataset['xc_nn_norm'].reshape(\n",
    "    shape[0], \n",
    "    shape[1],\n",
    "    shape[2] * shape[3],\n",
    ")   "
   ]
  },
  {
   "cell_type": "markdown",
   "metadata": {},
   "source": [
    "#### 2. Load dPL Scheme \n",
    "\n",
    "Physical model (Terzaghi's equation) + LSTM\n"
   ]
  },
  {
   "cell_type": "code",
   "execution_count": 14,
   "metadata": {},
   "outputs": [],
   "source": [
    "import importlib\n",
    "\n",
    "from dMG import load_nn_model\n",
    "from src.dMG.models.phy_models.terzaghi import TerzaghiMultiLayer as dPLT\n",
    "importlib.reload(sys.modules['src.dMG.models.phy_models.terzaghi'])\n",
    "importlib.reload(sys.modules['dMG'])\n",
    "\n",
    "\n",
    "model = dPLT(config['dpl_model']['phy_model'], device=config['device'])\n",
    "nn = load_nn_model(\n",
    "    model,\n",
    "    config['dpl_model'],\n",
    "    device=config['device'],\n",
    ")"
   ]
  },
  {
   "cell_type": "markdown",
   "metadata": {},
   "source": [
    "#### 3. Forward Model\n"
   ]
  },
  {
   "cell_type": "code",
   "execution_count": 16,
   "metadata": {},
   "outputs": [
    {
     "name": "stderr",
     "output_type": "stream",
     "text": [
      "/projects/mhpi/leoglonz/dPLT/.venv/lib/python3.12/site-packages/torch/nn/modules/rnn.py:1124: UserWarning: RNN module weights are not part of single contiguous chunk of memory. This means they need to be compacted at every call, possibly greatly increasing memory usage. To compact weights again call flatten_parameters(). (Triggered internally at /pytorch/aten/src/ATen/native/cudnn/RNN.cpp:1412.)\n",
      "  result = _VF.lstm(\n"
     ]
    },
    {
     "ename": "AttributeError",
     "evalue": "'TerzaghiMultiLayer' object has no attribute 'dfLayers'",
     "output_type": "error",
     "traceback": [
      "\u001b[31m---------------------------------------------------------------------------\u001b[39m",
      "\u001b[31mAttributeError\u001b[39m                            Traceback (most recent call last)",
      "\u001b[36mCell\u001b[39m\u001b[36m \u001b[39m\u001b[32mIn[16]\u001b[39m\u001b[32m, line 7\u001b[39m\n\u001b[32m      1\u001b[39m parameters = nn(train_dataset[\u001b[33m'\u001b[39m\u001b[33mxc_nn_norm\u001b[39m\u001b[33m'\u001b[39m])\n\u001b[32m      3\u001b[39m \u001b[38;5;66;03m# print(nn)\u001b[39;00m\n\u001b[32m      4\u001b[39m \u001b[38;5;66;03m# print(f\"Input shape {train_dataset['xc_nn_norm'].shape}\")\u001b[39;00m\n\u001b[32m      5\u001b[39m \u001b[38;5;66;03m# print(f\"Output shape {parameters.shape}\")\u001b[39;00m\n\u001b[32m----> \u001b[39m\u001b[32m7\u001b[39m predictions = \u001b[43mmodel\u001b[49m\u001b[43m(\u001b[49m\n\u001b[32m      8\u001b[39m \u001b[43m    \u001b[49m\u001b[43mtrain_dataset\u001b[49m\u001b[43m,\u001b[49m\n\u001b[32m      9\u001b[39m \u001b[43m    \u001b[49m\u001b[43mparameters\u001b[49m\u001b[43m,\u001b[49m\n\u001b[32m     10\u001b[39m \u001b[43m)\u001b[49m\n",
      "\u001b[36mFile \u001b[39m\u001b[32m/projects/mhpi/leoglonz/dPLT/.venv/lib/python3.12/site-packages/torch/nn/modules/module.py:1739\u001b[39m, in \u001b[36mModule._wrapped_call_impl\u001b[39m\u001b[34m(self, *args, **kwargs)\u001b[39m\n\u001b[32m   1737\u001b[39m     \u001b[38;5;28;01mreturn\u001b[39;00m \u001b[38;5;28mself\u001b[39m._compiled_call_impl(*args, **kwargs)  \u001b[38;5;66;03m# type: ignore[misc]\u001b[39;00m\n\u001b[32m   1738\u001b[39m \u001b[38;5;28;01melse\u001b[39;00m:\n\u001b[32m-> \u001b[39m\u001b[32m1739\u001b[39m     \u001b[38;5;28;01mreturn\u001b[39;00m \u001b[38;5;28;43mself\u001b[39;49m\u001b[43m.\u001b[49m\u001b[43m_call_impl\u001b[49m\u001b[43m(\u001b[49m\u001b[43m*\u001b[49m\u001b[43margs\u001b[49m\u001b[43m,\u001b[49m\u001b[43m \u001b[49m\u001b[43m*\u001b[49m\u001b[43m*\u001b[49m\u001b[43mkwargs\u001b[49m\u001b[43m)\u001b[49m\n",
      "\u001b[36mFile \u001b[39m\u001b[32m/projects/mhpi/leoglonz/dPLT/.venv/lib/python3.12/site-packages/torch/nn/modules/module.py:1750\u001b[39m, in \u001b[36mModule._call_impl\u001b[39m\u001b[34m(self, *args, **kwargs)\u001b[39m\n\u001b[32m   1745\u001b[39m \u001b[38;5;66;03m# If we don't have any hooks, we want to skip the rest of the logic in\u001b[39;00m\n\u001b[32m   1746\u001b[39m \u001b[38;5;66;03m# this function, and just call forward.\u001b[39;00m\n\u001b[32m   1747\u001b[39m \u001b[38;5;28;01mif\u001b[39;00m \u001b[38;5;129;01mnot\u001b[39;00m (\u001b[38;5;28mself\u001b[39m._backward_hooks \u001b[38;5;129;01mor\u001b[39;00m \u001b[38;5;28mself\u001b[39m._backward_pre_hooks \u001b[38;5;129;01mor\u001b[39;00m \u001b[38;5;28mself\u001b[39m._forward_hooks \u001b[38;5;129;01mor\u001b[39;00m \u001b[38;5;28mself\u001b[39m._forward_pre_hooks\n\u001b[32m   1748\u001b[39m         \u001b[38;5;129;01mor\u001b[39;00m _global_backward_pre_hooks \u001b[38;5;129;01mor\u001b[39;00m _global_backward_hooks\n\u001b[32m   1749\u001b[39m         \u001b[38;5;129;01mor\u001b[39;00m _global_forward_hooks \u001b[38;5;129;01mor\u001b[39;00m _global_forward_pre_hooks):\n\u001b[32m-> \u001b[39m\u001b[32m1750\u001b[39m     \u001b[38;5;28;01mreturn\u001b[39;00m \u001b[43mforward_call\u001b[49m\u001b[43m(\u001b[49m\u001b[43m*\u001b[49m\u001b[43margs\u001b[49m\u001b[43m,\u001b[49m\u001b[43m \u001b[49m\u001b[43m*\u001b[49m\u001b[43m*\u001b[49m\u001b[43mkwargs\u001b[49m\u001b[43m)\u001b[49m\n\u001b[32m   1752\u001b[39m result = \u001b[38;5;28;01mNone\u001b[39;00m\n\u001b[32m   1753\u001b[39m called_always_called_hooks = \u001b[38;5;28mset\u001b[39m()\n",
      "\u001b[36mFile \u001b[39m\u001b[32m/projects/mhpi/leoglonz/dPLT/src/dMG/models/phy_models/terzaghi.py:237\u001b[39m, in \u001b[36mTerzaghiMultiLayer.forward\u001b[39m\u001b[34m(self, x_dict, parameters)\u001b[39m\n\u001b[32m    234\u001b[39m all_results = []\n\u001b[32m    235\u001b[39m station_metrics = {}\n\u001b[32m--> \u001b[39m\u001b[32m237\u001b[39m stations = \u001b[38;5;28;43mself\u001b[39;49m\u001b[43m.\u001b[49m\u001b[43mdfLayers\u001b[49m[\u001b[33m'\u001b[39m\u001b[33mstation_id\u001b[39m\u001b[33m'\u001b[39m].unique()\n\u001b[32m    239\u001b[39m \u001b[38;5;28;01mfor\u001b[39;00m station \u001b[38;5;129;01min\u001b[39;00m stations:\n\u001b[32m    240\u001b[39m     \u001b[38;5;28mprint\u001b[39m(\u001b[33mf\u001b[39m\u001b[33m\"\u001b[39m\u001b[33mProcessing station: \u001b[39m\u001b[38;5;132;01m{\u001b[39;00mstation\u001b[38;5;132;01m}\u001b[39;00m\u001b[33m\"\u001b[39m)\n",
      "\u001b[36mFile \u001b[39m\u001b[32m/projects/mhpi/leoglonz/dPLT/.venv/lib/python3.12/site-packages/torch/nn/modules/module.py:1928\u001b[39m, in \u001b[36mModule.__getattr__\u001b[39m\u001b[34m(self, name)\u001b[39m\n\u001b[32m   1926\u001b[39m     \u001b[38;5;28;01mif\u001b[39;00m name \u001b[38;5;129;01min\u001b[39;00m modules:\n\u001b[32m   1927\u001b[39m         \u001b[38;5;28;01mreturn\u001b[39;00m modules[name]\n\u001b[32m-> \u001b[39m\u001b[32m1928\u001b[39m \u001b[38;5;28;01mraise\u001b[39;00m \u001b[38;5;167;01mAttributeError\u001b[39;00m(\n\u001b[32m   1929\u001b[39m     \u001b[33mf\u001b[39m\u001b[33m\"\u001b[39m\u001b[33m'\u001b[39m\u001b[38;5;132;01m{\u001b[39;00m\u001b[38;5;28mtype\u001b[39m(\u001b[38;5;28mself\u001b[39m).\u001b[34m__name__\u001b[39m\u001b[38;5;132;01m}\u001b[39;00m\u001b[33m'\u001b[39m\u001b[33m object has no attribute \u001b[39m\u001b[33m'\u001b[39m\u001b[38;5;132;01m{\u001b[39;00mname\u001b[38;5;132;01m}\u001b[39;00m\u001b[33m'\u001b[39m\u001b[33m\"\u001b[39m\n\u001b[32m   1930\u001b[39m )\n",
      "\u001b[31mAttributeError\u001b[39m: 'TerzaghiMultiLayer' object has no attribute 'dfLayers'"
     ]
    }
   ],
   "source": [
    "parameters = nn(train_dataset['xc_nn_norm'])\n",
    "\n",
    "# print(nn)\n",
    "# print(f\"Input shape {train_dataset['xc_nn_norm'].shape}\")\n",
    "# print(f\"Output shape {parameters.shape}\")\n",
    "\n",
    "predictions = model(\n",
    "    train_dataset,\n",
    "    parameters,\n",
    ")"
   ]
  },
  {
   "cell_type": "code",
   "execution_count": 21,
   "metadata": {},
   "outputs": [
    {
     "data": {
      "text/plain": [
       "torch.Size([109, 16, 8])"
      ]
     },
     "execution_count": 21,
     "metadata": {},
     "output_type": "execute_result"
    }
   ],
   "source": [
    "parameters.shape"
   ]
  },
  {
   "cell_type": "code",
   "execution_count": null,
   "metadata": {},
   "outputs": [],
   "source": []
  }
 ],
 "metadata": {
  "kernelspec": {
   "display_name": ".venv",
   "language": "python",
   "name": "python3"
  },
  "language_info": {
   "codemirror_mode": {
    "name": "ipython",
    "version": 3
   },
   "file_extension": ".py",
   "mimetype": "text/x-python",
   "name": "python",
   "nbconvert_exporter": "python",
   "pygments_lexer": "ipython3",
   "version": "3.12.8"
  }
 },
 "nbformat": 4,
 "nbformat_minor": 2
}
